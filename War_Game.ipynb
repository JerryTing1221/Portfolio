{
 "cells": [
  {
   "cell_type": "markdown",
   "metadata": {},
   "source": [
    "# War Game"
   ]
  },
  {
   "cell_type": "markdown",
   "metadata": {},
   "source": [
    "規則：\n",
    "\n",
    "step 1.  將牌平均分成 2 份\n",
    "\n",
    "step 2.  將牌組背面朝上，每人從牌組頂部拿出一張牌比大小，牌較大的玩家能將自己的牌和對手的牌拿走，並放入牌組底部\n",
    "\n",
    "step 3.  如果牌大小相同時，開始 War，也就是每人拿出 3 張牌，牌面朝下，然後再拿出一張牌，比大小，數字大的玩家可贏的所有 10 張牌\n",
    "           （包含一開始相同的 2 張，覆蓋的 6 張，和拿出來比大小的 2 張）\n",
    "\n",
    "step 4.  贏得所有牌的玩家獲勝，輸掉所有牌的玩家落敗\n",
    "\n"
   ]
  },
  {
   "cell_type": "code",
   "execution_count": 3,
   "metadata": {},
   "outputs": [],
   "source": [
    "# 首先先建立牌\n",
    "\n",
    "suits = ['Spades', 'Hearts', 'Diamonds', 'Clubs']\n",
    "\n",
    "ranks = ['Two', 'Three', 'Four', 'Five', 'Six', 'Seven', 'Eight', 'Nine', 'Ten', 'Jack', 'Queen', 'King', 'Ace']\n",
    "\n",
    "values = { 'Two':2, 'Three':3, 'Four':4, 'Five':5, 'Six':6, 'Seven':7, 'Eight':8, 'Nine':9, 'Ten':10, 'Jack':11, 'Queen':12, 'King':13, 'Ace':14 }\n"
   ]
  },
  {
   "cell_type": "code",
   "execution_count": 4,
   "metadata": {},
   "outputs": [],
   "source": [
    "class Card:\n",
    "    \n",
    "    def __init__(self, suit, rank):\n",
    "    \n",
    "        self.suit = suit\n",
    "        self.rank = rank\n",
    "        self.value = values[rank]\n",
    "        \n",
    "        \n",
    "    def __str__(self):\n",
    "        \n",
    "        return self.rank + ' of ' + self.suit\n",
    "        "
   ]
  },
  {
   "cell_type": "code",
   "execution_count": 5,
   "metadata": {},
   "outputs": [
    {
     "data": {
      "text/plain": [
       "'Spades'"
      ]
     },
     "execution_count": 5,
     "metadata": {},
     "output_type": "execute_result"
    }
   ],
   "source": [
    "suits[0]"
   ]
  },
  {
   "cell_type": "code",
   "execution_count": 6,
   "metadata": {},
   "outputs": [
    {
     "data": {
      "text/plain": [
       "'Two'"
      ]
     },
     "execution_count": 6,
     "metadata": {},
     "output_type": "execute_result"
    }
   ],
   "source": [
    "ranks[0]"
   ]
  },
  {
   "cell_type": "code",
   "execution_count": 7,
   "metadata": {},
   "outputs": [],
   "source": [
    "spades_two = Card(suits[0], ranks[0])"
   ]
  },
  {
   "cell_type": "code",
   "execution_count": 8,
   "metadata": {},
   "outputs": [
    {
     "name": "stdout",
     "output_type": "stream",
     "text": [
      "Two of Spades\n"
     ]
    }
   ],
   "source": [
    "print(spades_two)"
   ]
  },
  {
   "cell_type": "code",
   "execution_count": 9,
   "metadata": {},
   "outputs": [
    {
     "data": {
      "text/plain": [
       "2"
      ]
     },
     "execution_count": 9,
     "metadata": {},
     "output_type": "execute_result"
    }
   ],
   "source": [
    "spades_two.value"
   ]
  },
  {
   "cell_type": "code",
   "execution_count": null,
   "metadata": {},
   "outputs": [],
   "source": []
  },
  {
   "cell_type": "code",
   "execution_count": 10,
   "metadata": {},
   "outputs": [],
   "source": [
    "# 利用前面建立的牌，建立一組撲克牌\n",
    "\n",
    "import random\n",
    "\n",
    "class Poker:\n",
    "    \n",
    "    def __init__(self):\n",
    "        \n",
    "        self.all_cards = []\n",
    "        \n",
    "        for suit in suits:\n",
    "            \n",
    "            for rank in ranks:\n",
    "                \n",
    "                self. all_cards.append(Card(suit, rank))\n",
    "                \n",
    "    \n",
    "    def shuffle(self):\n",
    "        \n",
    "        return random.shuffle(self.all_cards)\n",
    "        \n",
    "    \n",
    "    def take_one(self):\n",
    "        \n",
    "        return self.all_cards.pop()\n",
    "        \n",
    "        "
   ]
  },
  {
   "cell_type": "code",
   "execution_count": 11,
   "metadata": {},
   "outputs": [],
   "source": [
    "deck = Poker()"
   ]
  },
  {
   "cell_type": "code",
   "execution_count": 12,
   "metadata": {},
   "outputs": [
    {
     "data": {
      "text/plain": [
       "52"
      ]
     },
     "execution_count": 12,
     "metadata": {},
     "output_type": "execute_result"
    }
   ],
   "source": [
    "#查看一副撲克牌是否正確52張\n",
    "\n",
    "len(deck.all_cards)"
   ]
  },
  {
   "cell_type": "code",
   "execution_count": 13,
   "metadata": {},
   "outputs": [
    {
     "name": "stdout",
     "output_type": "stream",
     "text": [
      "Two of Spades\n"
     ]
    }
   ],
   "source": [
    "print(deck.all_cards[0])"
   ]
  },
  {
   "cell_type": "code",
   "execution_count": 14,
   "metadata": {},
   "outputs": [],
   "source": [
    "# 洗牌\n",
    "\n",
    "deck.shuffle()"
   ]
  },
  {
   "cell_type": "code",
   "execution_count": 15,
   "metadata": {},
   "outputs": [
    {
     "name": "stdout",
     "output_type": "stream",
     "text": [
      "King of Spades\n"
     ]
    }
   ],
   "source": [
    "print(deck.all_cards[0])"
   ]
  },
  {
   "cell_type": "code",
   "execution_count": 16,
   "metadata": {},
   "outputs": [],
   "source": [
    "# 出一張牌\n",
    "\n",
    "my_card = deck.take_one()"
   ]
  },
  {
   "cell_type": "code",
   "execution_count": 17,
   "metadata": {},
   "outputs": [
    {
     "name": "stdout",
     "output_type": "stream",
     "text": [
      "Three of Hearts\n"
     ]
    }
   ],
   "source": [
    "print(my_card)"
   ]
  },
  {
   "cell_type": "code",
   "execution_count": null,
   "metadata": {},
   "outputs": [],
   "source": []
  },
  {
   "cell_type": "code",
   "execution_count": 81,
   "metadata": {},
   "outputs": [],
   "source": [
    "class Player:\n",
    "    \n",
    "    def __init__(self, name):\n",
    "        self.name = name\n",
    "        self.all_cards = []\n",
    "        \n",
    "        \n",
    "    def remove_card(self):\n",
    "        return self.all_cards.pop(0)\n",
    "    \n",
    "    \n",
    "    def add_card(self,new_card):\n",
    "        if type(new_card) == type([]):\n",
    "            self.all_cards.extend(new_card)\n",
    "        else:\n",
    "            self.all_cards.append(new_card)\n",
    "        \n",
    "        \n",
    "    def __str__(self):\n",
    "        return f'Player {self.name} has {len(self.all_cards)} cards'"
   ]
  },
  {
   "cell_type": "code",
   "execution_count": 82,
   "metadata": {},
   "outputs": [],
   "source": [
    "one = Player('One')"
   ]
  },
  {
   "cell_type": "code",
   "execution_count": 83,
   "metadata": {},
   "outputs": [
    {
     "name": "stdout",
     "output_type": "stream",
     "text": [
      "Player One has 0 cards\n"
     ]
    }
   ],
   "source": [
    "print(one)"
   ]
  },
  {
   "cell_type": "code",
   "execution_count": 84,
   "metadata": {},
   "outputs": [
    {
     "data": {
      "text/plain": [
       "__main__.Card"
      ]
     },
     "execution_count": 84,
     "metadata": {},
     "output_type": "execute_result"
    }
   ],
   "source": [
    "type(spades_two)"
   ]
  },
  {
   "cell_type": "code",
   "execution_count": 85,
   "metadata": {},
   "outputs": [],
   "source": [
    "one.add_card(spades_two)"
   ]
  },
  {
   "cell_type": "code",
   "execution_count": 86,
   "metadata": {},
   "outputs": [
    {
     "name": "stdout",
     "output_type": "stream",
     "text": [
      "Player One has 1 cards\n"
     ]
    }
   ],
   "source": [
    "print(one)"
   ]
  },
  {
   "cell_type": "code",
   "execution_count": null,
   "metadata": {},
   "outputs": [],
   "source": []
  },
  {
   "cell_type": "markdown",
   "metadata": {},
   "source": [
    "### 建立遊戲所需流程"
   ]
  },
  {
   "cell_type": "code",
   "execution_count": 87,
   "metadata": {},
   "outputs": [],
   "source": [
    "#建立玩家即一副撲克牌\n",
    "\n",
    "One = Player('One')\n",
    "Two = Player('Two')\n",
    "\n",
    "new_Poker = Poker()"
   ]
  },
  {
   "cell_type": "code",
   "execution_count": 88,
   "metadata": {},
   "outputs": [],
   "source": [
    "#洗牌\n",
    "\n",
    "new_Poker.shuffle()"
   ]
  },
  {
   "cell_type": "code",
   "execution_count": 89,
   "metadata": {},
   "outputs": [],
   "source": [
    "#平均發成2副\n",
    "\n",
    "for i in range(26):\n",
    "    One.add_card(new_Poker.take_one())\n",
    "    Two.add_card(new_Poker.take_one())"
   ]
  },
  {
   "cell_type": "code",
   "execution_count": 90,
   "metadata": {},
   "outputs": [
    {
     "name": "stdout",
     "output_type": "stream",
     "text": [
      "Player One has 26 cards\n",
      "Player Two has 26 cards\n"
     ]
    }
   ],
   "source": [
    "print(One)\n",
    "print(Two)"
   ]
  },
  {
   "cell_type": "code",
   "execution_count": 91,
   "metadata": {},
   "outputs": [
    {
     "data": {
      "text/plain": [
       "0"
      ]
     },
     "execution_count": 91,
     "metadata": {},
     "output_type": "execute_result"
    }
   ],
   "source": [
    "len(new_Poker.all_cards)"
   ]
  },
  {
   "cell_type": "code",
   "execution_count": 92,
   "metadata": {},
   "outputs": [],
   "source": [
    "#出牌\n",
    "\n",
    "player_one_card = []\n",
    "player_one_card.append(One.remove_card())\n",
    "\n",
    "player_two_card = []\n",
    "player_two_card.append(Two.remove_card())\n"
   ]
  },
  {
   "cell_type": "code",
   "execution_count": 93,
   "metadata": {},
   "outputs": [],
   "source": [
    "#比較牌大小\n",
    "\n",
    "if player_one_card[-1].value > player_two_card[-1].value:\n",
    "    \n",
    "    One.add_card(player_one_card)\n",
    "    One.add_card(player_two_card)\n",
    "    \n",
    "    \n",
    "if player_one_card[-1].value < player_two_card[-1].value:\n",
    "    \n",
    "    Two.add_card(player_two_card)\n",
    "    Two.add_card(player_one_card)\n",
    "\n",
    "    \n",
    "if player_one_card[-1].value == player_two_card[-1].value:\n",
    "    \n",
    "    print('War !!!')\n",
    "    \n",
    "    if len(One.all_cards) < 5:\n",
    "        print(\"Player One unable to play war! Game Over at War\")\n",
    "        print(\"Player Two Wins! Player One Loses!\")\n",
    "        \n",
    "    if len(Two.all_cards) < 5:\n",
    "        print(\"Player Two unable to play war! Game Over at War\")\n",
    "        print(\"Player One Wins! Player Two Loses!\")\n",
    "        \n",
    "    else:\n",
    "        for i in range(5):    #出5張牌\n",
    "            player_one_card.append(One.remove_card())\n",
    "            player_two_card.append(Two.remove_card())\n"
   ]
  },
  {
   "cell_type": "code",
   "execution_count": null,
   "metadata": {},
   "outputs": [],
   "source": [
    "#檢查是否有玩家牌組已歸零\n",
    "\n",
    "if len(One.all_cards) == 0:\n",
    "    print('Player One is out of card !!')\n",
    "    print('Player Two is Winner ~~')\n",
    "    \n",
    "if len(Two.all_cards) == 0:\n",
    "    print('Player Two is out of card !!')\n",
    "    print('Player One is Winner ~~')"
   ]
  },
  {
   "cell_type": "markdown",
   "metadata": {},
   "source": [
    "# 寫成一個程式"
   ]
  },
  {
   "cell_type": "code",
   "execution_count": 95,
   "metadata": {},
   "outputs": [
    {
     "name": "stdout",
     "output_type": "stream",
     "text": [
      "Round : 1\n",
      "Round : 2\n",
      "Round : 3\n",
      "Round : 4\n",
      "Round : 5\n",
      "Round : 6\n",
      "Round : 7\n",
      "Round : 8\n",
      "Round : 9\n",
      "Round : 10\n",
      "Round : 11\n",
      "Round : 12\n",
      "Round : 13\n",
      "Round : 14\n",
      "Round : 15\n",
      "Round : 16\n",
      "Round : 17\n",
      "Round : 18\n",
      "Round : 19\n",
      "Round : 20\n",
      "Round : 21\n",
      "Round : 22\n",
      "Round : 23\n",
      "Round : 24\n",
      "Round : 25\n",
      "Round : 26\n",
      "Round : 27\n",
      "Round : 28\n",
      "Round : 29\n",
      "Round : 30\n",
      "Round : 31\n",
      "Round : 32\n",
      "Round : 33\n",
      "Round : 34\n",
      "Round : 35\n",
      "Round : 36\n",
      "Round : 37\n",
      "Round : 38\n",
      "Round : 39\n",
      "Round : 40\n",
      "Round : 41\n",
      "War !!!\n",
      "Round : 42\n",
      "Round : 43\n",
      "Round : 44\n",
      "Round : 45\n",
      "Round : 46\n",
      "Round : 47\n",
      "Round : 48\n",
      "Round : 49\n",
      "Round : 50\n",
      "Round : 51\n",
      "Round : 52\n",
      "Round : 53\n",
      "Round : 54\n",
      "Round : 55\n",
      "Round : 56\n",
      "Round : 57\n",
      "Round : 58\n",
      "Round : 59\n",
      "Round : 60\n",
      "Round : 61\n",
      "Round : 62\n",
      "Round : 63\n",
      "Round : 64\n",
      "Round : 65\n",
      "Round : 66\n",
      "Round : 67\n",
      "Round : 68\n",
      "Round : 69\n",
      "Round : 70\n",
      "Round : 71\n",
      "Round : 72\n",
      "Round : 73\n",
      "Round : 74\n",
      "Round : 75\n",
      "Round : 76\n",
      "Round : 77\n",
      "Round : 78\n",
      "War !!!\n",
      "Round : 79\n",
      "War !!!\n",
      "Round : 80\n",
      "Round : 81\n",
      "Round : 82\n",
      "Round : 83\n",
      "Round : 84\n",
      "War !!!\n",
      "Round : 85\n",
      "Round : 86\n",
      "War !!!\n",
      "Round : 87\n",
      "Round : 88\n",
      "Round : 89\n",
      "Round : 90\n",
      "Round : 91\n",
      "Round : 92\n",
      "Round : 93\n",
      "Round : 94\n",
      "Round : 95\n",
      "Round : 96\n",
      "Round : 97\n",
      "Round : 98\n",
      "Round : 99\n",
      "Round : 100\n",
      "Round : 101\n",
      "Round : 102\n",
      "Round : 103\n",
      "Round : 104\n",
      "Round : 105\n",
      "Round : 106\n",
      "Round : 107\n",
      "Round : 108\n",
      "Round : 109\n",
      "Round : 110\n",
      "Round : 111\n",
      "Round : 112\n",
      "Round : 113\n",
      "Round : 114\n",
      "Round : 115\n",
      "Round : 116\n",
      "Round : 117\n",
      "Round : 118\n",
      "Round : 119\n",
      "War !!!\n",
      "Round : 120\n",
      "Round : 121\n",
      "Round : 122\n",
      "Round : 123\n",
      "Round : 124\n",
      "Round : 125\n",
      "Round : 126\n",
      "Round : 127\n",
      "Round : 128\n",
      "Round : 129\n",
      "Round : 130\n",
      "War !!!\n",
      "Round : 131\n",
      "Round : 132\n",
      "War !!!\n",
      "Player Two unable to play war! Game Over at War\n",
      "Player One Wins! Player Two Loses!\n"
     ]
    }
   ],
   "source": [
    "One = Player('One')\n",
    "Two = Player('Two')\n",
    "\n",
    "new_Poker = Poker()\n",
    "\n",
    "new_Poker.shuffle()\n",
    "\n",
    "\n",
    "for i in range(26):\n",
    "    One.add_card(new_Poker.take_one())\n",
    "    Two.add_card(new_Poker.take_one())\n",
    "\n",
    "    \n",
    "    \n",
    "game_on = True\n",
    "\n",
    "Round = 1\n",
    "    \n",
    "while game_on:\n",
    "    \n",
    "    print( 'Round : ' + str(Round) )\n",
    "\n",
    "    if len(One.all_cards) == 0:\n",
    "        print('Player One is out of card !!')\n",
    "        print('Player Two is Winner ~~')\n",
    "        game_on = False\n",
    "        break\n",
    "\n",
    "    if len(Two.all_cards) == 0:\n",
    "        print('Player Two is out of card !!')\n",
    "        print('Player One is Winner ~~')\n",
    "        game_on = False\n",
    "        break\n",
    "        \n",
    "\n",
    "    player_one_card = []\n",
    "    player_one_card.append(One.remove_card())\n",
    "\n",
    "    player_two_card = []\n",
    "    player_two_card.append(Two.remove_card())\n",
    "    \n",
    "    Round+=1\n",
    "    \n",
    "    \n",
    "    at_war = True\n",
    "\n",
    "    while at_war:\n",
    "        \n",
    "        if player_one_card[-1].value > player_two_card[-1].value:\n",
    "\n",
    "            One.add_card(player_one_card)\n",
    "            One.add_card(player_two_card)\n",
    "            \n",
    "            at_war = False\n",
    "\n",
    "\n",
    "        if player_one_card[-1].value < player_two_card[-1].value:\n",
    "\n",
    "            Two.add_card(player_two_card)\n",
    "            Two.add_card(player_one_card)\n",
    "            \n",
    "            at_war = False\n",
    "\n",
    "\n",
    "        if player_one_card[-1].value == player_two_card[-1].value:\n",
    "\n",
    "            print('War !!!')\n",
    "\n",
    "            if len(One.all_cards) < 5:\n",
    "                print(\"Player One unable to play war! Game Over at War\")\n",
    "                print(\"Player Two Wins! Player One Loses!\")\n",
    "                game_on = False\n",
    "                break\n",
    "\n",
    "            if len(Two.all_cards) < 5:\n",
    "                print(\"Player Two unable to play war! Game Over at War\")\n",
    "                print(\"Player One Wins! Player Two Loses!\")\n",
    "                game_on = False\n",
    "                break\n",
    "\n",
    "            else:\n",
    "                for i in range(5):    #先繳出5張牌，迴圈回到比大小\n",
    "                    player_one_card.append(One.remove_card())\n",
    "                    player_two_card.append(Two.remove_card())\n",
    "\n"
   ]
  },
  {
   "cell_type": "code",
   "execution_count": null,
   "metadata": {},
   "outputs": [],
   "source": []
  }
 ],
 "metadata": {
  "kernelspec": {
   "display_name": "Python 3",
   "language": "python",
   "name": "python3"
  },
  "language_info": {
   "codemirror_mode": {
    "name": "ipython",
    "version": 3
   },
   "file_extension": ".py",
   "mimetype": "text/x-python",
   "name": "python",
   "nbconvert_exporter": "python",
   "pygments_lexer": "ipython3",
   "version": "3.8.5"
  }
 },
 "nbformat": 4,
 "nbformat_minor": 4
}
