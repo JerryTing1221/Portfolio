{
 "cells": [
  {
   "cell_type": "markdown",
   "metadata": {},
   "source": [
    "# Tic Tac Toe Game"
   ]
  },
  {
   "cell_type": "markdown",
   "metadata": {},
   "source": []
  },
  {
   "cell_type": "code",
   "execution_count": 1,
   "metadata": {},
   "outputs": [],
   "source": [
    "# 顯示版\n",
    "\n",
    "def display_board (board) :\n",
    "    print(board[1] + ' | ' + board[2] + ' | ' + board[3])\n",
    "    print('------')\n",
    "    print(board[4] + ' | ' + board[5] + ' | ' + board[6])\n",
    "    print('------')\n",
    "    print(board[7] + ' | ' + board[8] + ' | ' + board[9])"
   ]
  },
  {
   "cell_type": "code",
   "execution_count": 2,
   "metadata": {},
   "outputs": [
    {
     "name": "stdout",
     "output_type": "stream",
     "text": [
      "1 | 2 | 3\n",
      "------\n",
      "4 | 5 | 6\n",
      "------\n",
      "7 | 8 | 9\n"
     ]
    }
   ],
   "source": [
    "board = ['0','1','2','3','4','5','6','7','8','9']\n",
    "\n",
    "display_board(board)"
   ]
  },
  {
   "cell_type": "code",
   "execution_count": 3,
   "metadata": {},
   "outputs": [],
   "source": [
    "# 讓 player 選擇 'O' 或 'X'\n",
    "\n",
    "def player_input() :\n",
    "    \n",
    "    marker = \" \"\n",
    "    \n",
    "    while marker != 'X' and marker != 'O':    \n",
    "        marker = input(\"Player 1 , please choose 'X' or 'O' : \")\n",
    "        Player_1 = marker\n",
    "    \n",
    "    while Player_1 == 'X' or Player_1 == 'O':    \n",
    "        \n",
    "        if Player_1 == 'X':\n",
    "            Player_1 = 'X' \n",
    "            Player_2 = 'O'\n",
    "            return Player_1, Player_2\n",
    "        \n",
    "            \n",
    "        elif Player_1 == 'O':\n",
    "            Player_1 = 'O' \n",
    "            Player_2 = 'X'\n",
    "            return Player_1, Player_2\n"
   ]
  },
  {
   "cell_type": "code",
   "execution_count": 4,
   "metadata": {},
   "outputs": [
    {
     "name": "stdout",
     "output_type": "stream",
     "text": [
      "Player 1 , please choose 'X' or 'O' : O\n"
     ]
    }
   ],
   "source": [
    "#要把回傳結果 assign 回去給變數 Player_1 , Player_2\n",
    "\n",
    "Player_1 , Player_2 = player_input()"
   ]
  },
  {
   "cell_type": "code",
   "execution_count": 10,
   "metadata": {},
   "outputs": [],
   "source": [
    "#隨機決定 player 1 還是 player 2 先攻\n",
    "\n",
    "import random\n",
    "\n",
    "def choose_first():\n",
    "    if random.randint(0, 1) == 0:\n",
    "        return 'Player 1'\n",
    "    else:\n",
    "        return 'Player 2'"
   ]
  },
  {
   "cell_type": "code",
   "execution_count": 11,
   "metadata": {},
   "outputs": [],
   "source": [
    "# 將玩家選的位置放到顯示版\n",
    "\n",
    "def place_marker(board, postion, marker):\n",
    "    board[postion] = marker"
   ]
  },
  {
   "cell_type": "code",
   "execution_count": 12,
   "metadata": {},
   "outputs": [],
   "source": [
    "#  判斷是否有player 贏得比賽\n",
    "\n",
    "def win_lose(board):\n",
    "        \n",
    "# win : 123, 456, 789, 147, 258, 369, 159, 357\n",
    "    \n",
    "        \n",
    "    while ((board[1] == board[2] == board[3] != '  ')   or\n",
    "             (board[4] == board[5] == board[6] != '  ')  or\n",
    "              (board[7] == board[8] == board[9] != '  ')  or\n",
    "              (board[1] == board[4] == board[7] != '  ')   or\n",
    "              (board[2] == board[5] == board[8] != '  ')  or\n",
    "              (board[3] == board[6] == board[9] != '  ')  or \n",
    "              (board[1] == board[5] == board[9] != '  ')   or\n",
    "              (board[3] == board[5] == board[7] != '  ')):\n",
    "        \n",
    "        return  True\n",
    "            "
   ]
  },
  {
   "cell_type": "code",
   "execution_count": 13,
   "metadata": {},
   "outputs": [],
   "source": [
    "# 判斷是否平手\n",
    "\n",
    "def tied(board):\n",
    "    while (board[1] != '  '  and\n",
    "        board[2] != '  '  and\n",
    "        board[3] != '  '  and\n",
    "        board[4] != '  '  and\n",
    "        board[5] != '  '  and\n",
    "        board[6] != '  '  and\n",
    "        board[7] != '  '  and\n",
    "        board[8] != '  '  and\n",
    "        board[9] != '  '):\n",
    "            \n",
    "        return True"
   ]
  },
  {
   "cell_type": "code",
   "execution_count": 14,
   "metadata": {
    "scrolled": true
   },
   "outputs": [],
   "source": [
    "#  詢問玩家是否繼續\n",
    "\n",
    "def play_again():\n",
    "    \n",
    "    answer = ' '\n",
    "    \n",
    "    while answer != 'yes' and answer != 'no':\n",
    "\n",
    "        again = input(\"Do you want to play again?  ( Please enter 'yes' or 'no') : \")\n",
    "        answer = again\n",
    "        clear_output()\n",
    "        \n",
    "    while again == 'yes' or again == 'no':\n",
    "        if again == 'yes':\n",
    "            game_on = True\n",
    "        else:\n",
    "            game_on = False\n",
    "            \n",
    "        return game_on\n"
   ]
  },
  {
   "cell_type": "code",
   "execution_count": null,
   "metadata": {},
   "outputs": [],
   "source": []
  },
  {
   "cell_type": "code",
   "execution_count": null,
   "metadata": {},
   "outputs": [
    {
     "name": "stdout",
     "output_type": "stream",
     "text": [
      "X | O | X\n",
      "------\n",
      "O | O | O\n",
      "------\n",
      "X | X | O\n",
      "\n",
      "Player 1 is Winner !! \n"
     ]
    }
   ],
   "source": [
    "# OOXX 程式\n",
    "\n",
    "import random\n",
    "from IPython.display import clear_output\n",
    "\n",
    "print('Please choose the desired position based on the numbers ~\\n')\n",
    "\n",
    "board = ['0','1','2','3','4','5','6','7','8','9']\n",
    "\n",
    "display_board(board)\n",
    "\n",
    "Player_1 , Player_2 = player_input()\n",
    "\n",
    "clear_output()\n",
    "\n",
    "board = ['  ','  ','  ','  ','  ','  ','  ','  ','  ','  ']\n",
    "\n",
    "display_board(board)\n",
    "\n",
    "game_on = True\n",
    "\n",
    "turn = choose_first()\n",
    "\n",
    "print('\\n' + turn + ' will go first !! ')\n",
    "\n",
    "while game_on:\n",
    "    \n",
    "    while turn== 'Player 1' and game_on== True:\n",
    "            \n",
    "            print('\\nTurn : player 1')\n",
    "            \n",
    "            result = input('Please enter a number (1-9) : ')\n",
    "            \n",
    "            # 將板面清除\n",
    "            clear_output()\n",
    "            \n",
    "            \n",
    "            if result.isdigit() == False:\n",
    "                display_board(board)\n",
    "                continue\n",
    "            \n",
    "            if int(result) not in range(1,10):\n",
    "                print('Out of range !! Please try again ~')\n",
    "                display_board(board)\n",
    "                continue\n",
    "\n",
    "            if board[int(result)] != '  ':\n",
    "                print('Already occupied !! Plese try again ~')\n",
    "                display_board(board)\n",
    "                continue\n",
    "            else:\n",
    "                place_marker(board, int(result), Player_1)\n",
    "                clear_output()\n",
    "                display_board(board)\n",
    "                turn = 'Player 2'\n",
    "                \n",
    "            while win_lose(board):\n",
    "                print('\\nPlayer 1 is Winner !! ')\n",
    "                game_on = play_again()\n",
    "                if game_on == False:\n",
    "                    break\n",
    "                else:\n",
    "                    board = ['  ','  ','  ','  ','  ','  ','  ','  ','  ','  ']\n",
    "                    display_board(board)\n",
    "                    break\n",
    "                \n",
    "            while tied(board):\n",
    "                print('\\nTie !! ')\n",
    "                game_on = play_again()\n",
    "                if game_on == False:\n",
    "                    break\n",
    "                else:\n",
    "                    board = ['  ','  ','  ','  ','  ','  ','  ','  ','  ','  ']\n",
    "                    display_board(board)\n",
    "                    break\n",
    "                    \n",
    "\n",
    "\n",
    "\n",
    "\n",
    "    while turn == 'Player 2' and game_on==True:\n",
    "        \n",
    "            print('\\nTurn : player 2')\n",
    "\n",
    "            result = input('Please enter a number (1-9) : ')\n",
    "\n",
    "            clear_output()\n",
    "            \n",
    "            \n",
    "            if result.isdigit() == False:\n",
    "                display_board(board)\n",
    "                continue\n",
    "            \n",
    "            if int(result) not in range(1,10):\n",
    "                print('Out of range !! Please try again ~')\n",
    "                display_board(board)\n",
    "                continue\n",
    "\n",
    "            if board[int(result)] != '  ':\n",
    "                print('Already occupied !! Plese try again ~')\n",
    "                display_board(board)\n",
    "                continue\n",
    "            else:\n",
    "                place_marker(board, int(result), Player_2)\n",
    "                clear_output()\n",
    "                display_board(board)\n",
    "                turn = 'Player 1'\n",
    "                \n",
    "            while win_lose(board):\n",
    "                print('\\nPlayer 2 is Winner !! ')\n",
    "                game_on = play_again()\n",
    "                if game_on == False:\n",
    "                    break\n",
    "                else:\n",
    "                    board = ['  ','  ','  ','  ','  ','  ','  ','  ','  ','  ']\n",
    "                    display_board(board)\n",
    "                    break\n",
    "                \n",
    "            while tied(board):\n",
    "                print('\\nTie !! ')\n",
    "                game_on = play_again()\n",
    "                if game_on == False:\n",
    "                    break\n",
    "                else:\n",
    "                    board = ['  ','  ','  ','  ','  ','  ','  ','  ','  ','  ']\n",
    "                    display_board(board)\n",
    "                    break\n",
    "         "
   ]
  },
  {
   "cell_type": "code",
   "execution_count": null,
   "metadata": {},
   "outputs": [],
   "source": []
  }
 ],
 "metadata": {
  "kernelspec": {
   "display_name": "Python 3",
   "language": "python",
   "name": "python3"
  },
  "language_info": {
   "codemirror_mode": {
    "name": "ipython",
    "version": 3
   },
   "file_extension": ".py",
   "mimetype": "text/x-python",
   "name": "python",
   "nbconvert_exporter": "python",
   "pygments_lexer": "ipython3",
   "version": "3.8.5"
  }
 },
 "nbformat": 4,
 "nbformat_minor": 4
}
