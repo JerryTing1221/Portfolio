{
 "cells": [
  {
   "cell_type": "markdown",
   "metadata": {},
   "source": [
    "# Black Jack Card Game"
   ]
  },
  {
   "cell_type": "markdown",
   "metadata": {},
   "source": [
    "1. Create a deck of 52 cards\n",
    "2. Shuffle the deck"
   ]
  },
  {
   "cell_type": "code",
   "execution_count": 1,
   "metadata": {},
   "outputs": [],
   "source": [
    "#花色\n",
    "suits = ['Spades', 'Hearts', 'Diamonds', 'Clubs']\n",
    "\n",
    "#數字\n",
    "ranks = ['Two', 'Three', 'Four', 'Five', 'Six', 'Seven', 'Eight', 'Nine', 'Ten', 'Jack', 'Queen', 'King', 'Ace']\n",
    "\n",
    "values = {'Two':2, 'Three':3, 'Four':4, 'Five':5, 'Six':6, 'Seven':7, 'Eight':8, 'Nine':9, 'Ten':10, 'Jack':11, 'Queen':12, 'King':13, 'Ace':14}"
   ]
  },
  {
   "cell_type": "code",
   "execution_count": 2,
   "metadata": {},
   "outputs": [],
   "source": [
    "import random\n",
    "\n",
    "class Card:\n",
    "    \n",
    "    def __init__(self,suit,rank):\n",
    "        self.suit = suit\n",
    "        self.rank = rank\n",
    "        self.value = values[rank]\n",
    "    \n",
    "    def __str__(self):\n",
    "        return self.rank + ' of ' + self.suit\n",
    "    \n",
    "    \n",
    "class Deck:\n",
    "    \n",
    "    def __init__(self):\n",
    "        \n",
    "        self.all_cards = []\n",
    "        \n",
    "        for suit in suits:\n",
    "            for rank in ranks:\n",
    "                self.all_cards.append(Card(suit,rank))\n",
    "                \n",
    "    def __str__(self):\n",
    "        \n",
    "        display = 'All cards :\\n'\n",
    "        for card in self.all_cards:\n",
    "            display+=card.__str__() + '\\n'\n",
    "        return display\n",
    "                \n",
    "    def shuffle(self):\n",
    "        return random.shuffle(self.all_cards)\n",
    "    \n",
    "    def deal_one(self):\n",
    "        return self.all_cards.pop()\n",
    "    "
   ]
  },
  {
   "cell_type": "code",
   "execution_count": 3,
   "metadata": {},
   "outputs": [],
   "source": [
    "test = Deck()"
   ]
  },
  {
   "cell_type": "code",
   "execution_count": 4,
   "metadata": {},
   "outputs": [
    {
     "name": "stdout",
     "output_type": "stream",
     "text": [
      "All cards :\n",
      "Two of Spades\n",
      "Three of Spades\n",
      "Four of Spades\n",
      "Five of Spades\n",
      "Six of Spades\n",
      "Seven of Spades\n",
      "Eight of Spades\n",
      "Nine of Spades\n",
      "Ten of Spades\n",
      "Jack of Spades\n",
      "Queen of Spades\n",
      "King of Spades\n",
      "Ace of Spades\n",
      "Two of Hearts\n",
      "Three of Hearts\n",
      "Four of Hearts\n",
      "Five of Hearts\n",
      "Six of Hearts\n",
      "Seven of Hearts\n",
      "Eight of Hearts\n",
      "Nine of Hearts\n",
      "Ten of Hearts\n",
      "Jack of Hearts\n",
      "Queen of Hearts\n",
      "King of Hearts\n",
      "Ace of Hearts\n",
      "Two of Diamonds\n",
      "Three of Diamonds\n",
      "Four of Diamonds\n",
      "Five of Diamonds\n",
      "Six of Diamonds\n",
      "Seven of Diamonds\n",
      "Eight of Diamonds\n",
      "Nine of Diamonds\n",
      "Ten of Diamonds\n",
      "Jack of Diamonds\n",
      "Queen of Diamonds\n",
      "King of Diamonds\n",
      "Ace of Diamonds\n",
      "Two of Clubs\n",
      "Three of Clubs\n",
      "Four of Clubs\n",
      "Five of Clubs\n",
      "Six of Clubs\n",
      "Seven of Clubs\n",
      "Eight of Clubs\n",
      "Nine of Clubs\n",
      "Ten of Clubs\n",
      "Jack of Clubs\n",
      "Queen of Clubs\n",
      "King of Clubs\n",
      "Ace of Clubs\n",
      "\n"
     ]
    }
   ],
   "source": [
    "print(test)"
   ]
  },
  {
   "cell_type": "code",
   "execution_count": null,
   "metadata": {},
   "outputs": [],
   "source": []
  },
  {
   "cell_type": "markdown",
   "metadata": {},
   "source": [
    "### Step 4: Create a Hand Class"
   ]
  },
  {
   "cell_type": "code",
   "execution_count": 5,
   "metadata": {},
   "outputs": [],
   "source": [
    "class Hand:\n",
    "    def __init__(self):\n",
    "        self.cards = []  # 代表手上的牌\n",
    "        self.value = 0  # 手上牌點數加總\n",
    "        self.aces = 0    # 手上牌的 Ace \n",
    "    \n",
    "    def add_card(self,card):\n",
    "        self.cards.append(card)\n",
    "        self.value+=values[card.rank]\n",
    "        if card.rank == 'Ace':\n",
    "            self.aces+=1\n",
    "    \n",
    "    def adjust_for_ace(self):\n",
    "        while self.value > 21 and self.aces:\n",
    "            self.value -= 10\n",
    "            self.aces -= 1"
   ]
  },
  {
   "cell_type": "markdown",
   "metadata": {},
   "source": [
    "### Step 5: Create a Chips Class"
   ]
  },
  {
   "cell_type": "code",
   "execution_count": 6,
   "metadata": {},
   "outputs": [],
   "source": [
    "#籌碼\n",
    "\n",
    "class Chip:\n",
    "    \n",
    "    def __init__(self):\n",
    "        self.total = 100   #可在預設籌碼100\n",
    "        self.bet = 0\n",
    "        \n",
    "        \n",
    "    def win_bet(self):\n",
    "        self.total += self.bet\n",
    "        \n",
    "        \n",
    "    def lose_bet(self):\n",
    "        self.total -= self.bet\n",
    "        "
   ]
  },
  {
   "cell_type": "code",
   "execution_count": null,
   "metadata": {},
   "outputs": [],
   "source": []
  },
  {
   "cell_type": "markdown",
   "metadata": {},
   "source": [
    "### Step 6: Write a function for taking bets"
   ]
  },
  {
   "cell_type": "code",
   "execution_count": 7,
   "metadata": {},
   "outputs": [],
   "source": [
    "def take_bet(chip):\n",
    "    \n",
    "    while True:\n",
    "        try:\n",
    "            chip.bet = int(input('How many chips would you like to bet? '))\n",
    "        except:\n",
    "            print('Sorry, a bet must be an interger !')\n",
    "        else:\n",
    "            if chip.bet > chip.total:\n",
    "                print(f\"Sorry, your bet can't exceed {chip.total}\")\n",
    "            else:\n",
    "                break"
   ]
  },
  {
   "cell_type": "markdown",
   "metadata": {},
   "source": [
    "### Step 7: Write a function for taking hits "
   ]
  },
  {
   "cell_type": "code",
   "execution_count": 8,
   "metadata": {},
   "outputs": [],
   "source": [
    "# hit = 拿牌 ; stand = 停牌\n",
    "\n",
    "def hit(deck,hand):\n",
    "    hand.add_card(deck.deal_one())\n",
    "    hand.adjust_for_ace()"
   ]
  },
  {
   "cell_type": "markdown",
   "metadata": {},
   "source": [
    "###  Step 8: Write a function prompting the Player to Hit or Stand "
   ]
  },
  {
   "cell_type": "code",
   "execution_count": 9,
   "metadata": {},
   "outputs": [],
   "source": [
    "#hit : 叫牌 ; stand : 停\n",
    "\n",
    "def hit_or_stand(deck,hand):\n",
    "    \n",
    "    global playing\n",
    "    \n",
    "    while True:\n",
    "        \n",
    "        i = str(input(\"Would you like to Hit or Stand ? Enter 'h' or 's'. \"))\n",
    "        print('\\n---------------------\\n')\n",
    "        try:\n",
    "            if i[0].lower() == 'h':\n",
    "                hit(deck,hand)\n",
    "\n",
    "            elif i[0].lower() == 's':\n",
    "                print('Player stand. Dealer is playing.')\n",
    "                playing = False\n",
    "                break\n",
    "\n",
    "            else:\n",
    "                print('Please enter again !!')\n",
    "                continue\n",
    "            break\n",
    "        except:\n",
    "            print('Please enter again !!')\n",
    "            continue"
   ]
  },
  {
   "cell_type": "code",
   "execution_count": null,
   "metadata": {},
   "outputs": [],
   "source": []
  },
  {
   "cell_type": "markdown",
   "metadata": {},
   "source": [
    "### Step 9: Write functions to display cards "
   ]
  },
  {
   "cell_type": "code",
   "execution_count": 10,
   "metadata": {},
   "outputs": [],
   "source": [
    "def show_some(player, dealer):\n",
    "    print(\"\\nDealer's Hand:\\n\")\n",
    "    print(\"< Hidden card >\")\n",
    "    print(dealer.cards[1])\n",
    "    \n",
    "    print(\"\\n\\nPlayer's Hand:\\n\")\n",
    "    for card in player.cards:\n",
    "        print(card)\n",
    "        \n",
    "def show_all(player, dealer):\n",
    "    print(\"\\nDealer's Hand:\")\n",
    "    for card in dealer.cards:\n",
    "        print(card)\n",
    "    print(f\"\\nDealer's Value: {dealer.value}\")\n",
    "    \n",
    "    print(\"\\n\\nPlayer's Hand:\")\n",
    "    for card in player.cards:\n",
    "        print(card)\n",
    "    print(f\"\\nPlayer's Value: {player.value}\")\n",
    "       "
   ]
  },
  {
   "cell_type": "markdown",
   "metadata": {},
   "source": [
    "### Step 10: Write functions to handle end of game scenarios"
   ]
  },
  {
   "cell_type": "code",
   "execution_count": 11,
   "metadata": {},
   "outputs": [],
   "source": [
    "\n",
    "# bust 爆了\n",
    "def player_busts(chips):\n",
    "    print('\\nPlayer busts !!')\n",
    "    chips.lose_bet()\n",
    "    \n",
    "def player_wins(chips):\n",
    "    print('\\nPlayer wins !!')\n",
    "    chips.win_bet()\n",
    "    \n",
    "def dealer_busts(chips):\n",
    "    print('\\nDealer busts !!')\n",
    "    chips.win_bet()\n",
    "\n",
    "def dealer_wins(chips):\n",
    "    print('\\nDealer wims !!')\n",
    "    chips.lose_bet()\n",
    "\n",
    "# 點數相同\n",
    "def push():\n",
    "    print(\"Player and Dealer tie ! It's a push.\")"
   ]
  },
  {
   "cell_type": "markdown",
   "metadata": {},
   "source": [
    "## 開始程式 "
   ]
  },
  {
   "cell_type": "code",
   "execution_count": null,
   "metadata": {},
   "outputs": [
    {
     "name": "stdout",
     "output_type": "stream",
     "text": [
      "Welcome to BlackJack. \n",
      "How many chips would you like to bet? 12\n",
      "\n",
      "Dealer's Hand:\n",
      "\n",
      "< Hidden card >\n",
      "Eight of Spades\n",
      "\n",
      "\n",
      "Player's Hand:\n",
      "\n",
      "Ace of Diamonds\n",
      "Queen of Hearts\n",
      "Would you like to Hit or Stand ? Enter 'h' or 's'. h\n",
      "\n",
      "---------------------\n",
      "\n",
      "\n",
      "Dealer's Hand:\n",
      "\n",
      "< Hidden card >\n",
      "Eight of Spades\n",
      "\n",
      "\n",
      "Player's Hand:\n",
      "\n",
      "Ace of Diamonds\n",
      "Queen of Hearts\n",
      "Ace of Spades\n",
      "Would you like to Hit or Stand ? Enter 'h' or 's'. h\n",
      "\n",
      "---------------------\n",
      "\n",
      "\n",
      "Dealer's Hand:\n",
      "\n",
      "< Hidden card >\n",
      "Eight of Spades\n",
      "\n",
      "\n",
      "Player's Hand:\n",
      "\n",
      "Ace of Diamonds\n",
      "Queen of Hearts\n",
      "Ace of Spades\n",
      "Five of Diamonds\n",
      "\n",
      "Player busts !!\n",
      "Your chips : 88\n",
      "Do you want to play again? Enter 'y' or 'n': \n",
      "Sorry, you need to enter 'y' or 'n'. Please enter again.\n",
      "Welcome to BlackJack. \n"
     ]
    }
   ],
   "source": [
    "game_on = True\n",
    "\n",
    "while game_on:\n",
    "    # Print an opening statement\n",
    "    print('Welcome to BlackJack. ')\n",
    "\n",
    "    # Create & shuffle the deck, deal two cards to each player\n",
    "    deck = Deck()\n",
    "    deck.shuffle()\n",
    "    \n",
    "    player_hand = Hand()\n",
    "    player_hand.add_card(deck.deal_one())\n",
    "    player_hand.add_card(deck.deal_one())\n",
    "\n",
    "    dealer_hand = Hand()\n",
    "    dealer_hand.add_card(deck.deal_one())\n",
    "    dealer_hand.add_card(deck.deal_one())    \n",
    "\n",
    "        \n",
    "    # Set up the Player's chips\n",
    "    player_chips = Chip()\n",
    "    \n",
    "    \n",
    "    # Prompt the Player for their bet\n",
    "    take_bet(player_chips)\n",
    "\n",
    "    \n",
    "    # Show cards (but keep one dealer card hidden)\n",
    "    show_some(player_hand,dealer_hand)\n",
    "    \n",
    "    \n",
    "    playing = True\n",
    "    \n",
    "    while playing:  # recall this variable from our hit_or_stand function\n",
    "        \n",
    "        # Prompt for Player to Hit or Stand\n",
    "        hit_or_stand(deck, player_hand)\n",
    "        \n",
    "        # Show cards (but keep one dealer card hidden)\n",
    "        show_some(player_hand, dealer_hand)\n",
    "        \n",
    "        # If player's hand exceeds 21, run player_busts() and break out of loop\n",
    "        if player_hand.value > 21:\n",
    "            player_busts(player_chips)\n",
    "            break\n",
    "\n",
    "    # If Player hasn't busted, play Dealer's hand until Dealer reaches 17\n",
    "    if player_hand.value <= 21:\n",
    "        \n",
    "        while dealer_hand.value <= 17:\n",
    "            hit(deck, dealer_hand)\n",
    "    \n",
    "        # Show all cards\n",
    "        show_all(player_hand, dealer_hand)\n",
    "        \n",
    "        # Run different winning scenarios\n",
    "        if dealer_hand.value > 21:\n",
    "            dealer_busts(player_chips)\n",
    "            \n",
    "        elif dealer_hand.value < player_hand.value:\n",
    "            player_wins(player_chips)\n",
    "            \n",
    "        elif dealer_hand.value > player_hand.value:\n",
    "            dealer_wins(player_chips)\n",
    "            \n",
    "        else:\n",
    "            push()\n",
    "            \n",
    "    \n",
    "    # Inform Player of their chips total \n",
    "    print(f\"Your chips : {player_chips.total}\")\n",
    "    \n",
    "    # Ask to play again\n",
    "    play_again = input(\"Do you want to play again? Enter 'y' or 'n': \")\n",
    "    try:\n",
    "        if play_again[0].lower() == 'y':\n",
    "            playing = True  \n",
    "            continue\n",
    "        elif play_again[0].lower() == 'n':\n",
    "            print('Thank you for playing !!')\n",
    "            game_on = False\n",
    "            break\n",
    "        else:\n",
    "            print(\"Sorry, you need to enter 'y' or 'n'. Please enter again.\")\n",
    "            continue\n",
    "    except:\n",
    "        print(\"Sorry, you need to enter 'y' or 'n'. Please enter again.\")"
   ]
  },
  {
   "cell_type": "code",
   "execution_count": null,
   "metadata": {},
   "outputs": [],
   "source": []
  },
  {
   "cell_type": "code",
   "execution_count": null,
   "metadata": {},
   "outputs": [],
   "source": []
  },
  {
   "cell_type": "code",
   "execution_count": null,
   "metadata": {},
   "outputs": [],
   "source": []
  }
 ],
 "metadata": {
  "kernelspec": {
   "display_name": "Python 3",
   "language": "python",
   "name": "python3"
  },
  "language_info": {
   "codemirror_mode": {
    "name": "ipython",
    "version": 3
   },
   "file_extension": ".py",
   "mimetype": "text/x-python",
   "name": "python",
   "nbconvert_exporter": "python",
   "pygments_lexer": "ipython3",
   "version": "3.8.5"
  }
 },
 "nbformat": 4,
 "nbformat_minor": 4
}
