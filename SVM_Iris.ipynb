{
 "cells": [
  {
   "cell_type": "code",
   "execution_count": 2,
   "metadata": {},
   "outputs": [],
   "source": [
    "# 引入函數\n",
    "\n",
    "from sklearn import svm\n",
    "import pandas as pd\n",
    "import numpy as np\n",
    "import matplotlib.pyplot as plt\n",
    "from sklearn import datasets\n",
    "from sklearn.model_selection import train_test_split\n"
   ]
  },
  {
   "cell_type": "code",
   "execution_count": 3,
   "metadata": {},
   "outputs": [],
   "source": [
    "#  下載練習資料\n",
    "\n",
    "##用sklearn提供的 Iries 數據集\n",
    "\n",
    "iris=datasets.load_iris()\n",
    "\n",
    "\n",
    "##利用 長度 和 寬度 來預測屬於哪一類 Iries\n",
    "\n",
    "X = iris.data\n",
    "y = iris.target\n",
    "\n"
   ]
  },
  {
   "cell_type": "code",
   "execution_count": 4,
   "metadata": {},
   "outputs": [],
   "source": [
    "#將樣本分為 訓練集(train) 與 測試集(test)\n",
    "\n",
    "##為避免過度擬和，可使用 sklearn 的 train_test_split\n",
    "\n",
    "\n",
    "\n",
    "X_train, X_test, y_train, y_test = train_test_split(X, y,test_size=0.2,random_state=0)\n",
    "\n",
    "\n",
    "\n",
    "## test_size=20 表示測試集佔所有樣本20%，訓練集佔所有樣本80%\n",
    "\n",
    "## rando_state可用來固定，變免重複執行結果不同\n"
   ]
  },
  {
   "cell_type": "code",
   "execution_count": 5,
   "metadata": {},
   "outputs": [
    {
     "data": {
      "text/plain": [
       "SVC(C=1, gamma='auto')"
      ]
     },
     "execution_count": 5,
     "metadata": {},
     "output_type": "execute_result"
    }
   ],
   "source": [
    "# 建立模型\n",
    "\n",
    "## 挑選模型，這裡使用svm的SVC分類器\n",
    "\n",
    "\n",
    "clf = svm.SVC(kernel='rbf',C=1,gamma='auto')\n",
    "\n",
    "clf.fit (X_train,y_train)\n",
    "\n",
    "# SVC裡需要帶3種參數，kernel(核函數) 、 C(懲罰係數)、 gamma(支援向量多寡)\n",
    "\n",
    "\n",
    "# kernel(核函數) : 將特徵進行從低維到高維的轉換，但核函數絕就絕在它事先在低維上進行計算，而將實質上的分類效果表現在了高維上，\n",
    "# 也就是說避免了直接在高維空間中的複雜計算。\n",
    "\n",
    "# C (正則化強度) : C越大，代表錯誤容忍度越低，在訓練集樣本中會區分越精細，因此設定太大容易造成過度擬和 (overfitting) 的問題，\n",
    "# 若無設定，模型中預設為 1\n",
    "\n",
    "# gamma : gamma參數決定支援向量的多寡，並影響訓練速度與預測速度 。此參數有兩個自動運算選擇，分別為’scale’與’auto’，\n",
    "# 或是也可以直接指定數值，設定後會以下列方式算出隱含參數，以決定資料映射到新特徵空間後的分佈，在未設定下預設為’scale’。\n",
    "\n",
    "\n"
   ]
  },
  {
   "cell_type": "code",
   "execution_count": 6,
   "metadata": {},
   "outputs": [
    {
     "data": {
      "text/plain": [
       "array([2, 1, 0, 2, 0, 2, 0, 1, 1, 1, 2, 1, 1, 1, 1, 0, 1, 1, 0, 0, 2, 1,\n",
       "       0, 0, 2, 0, 0, 1, 1, 0])"
      ]
     },
     "execution_count": 6,
     "metadata": {},
     "output_type": "execute_result"
    }
   ],
   "source": [
    "# 預測\n",
    "\n",
    "# 公式：（模型）.predict(（測試集特徵）)\n",
    "\n",
    "clf.predict(X_test)\n",
    "\n"
   ]
  },
  {
   "cell_type": "code",
   "execution_count": 7,
   "metadata": {},
   "outputs": [
    {
     "name": "stdout",
     "output_type": "stream",
     "text": [
      "0.975\n",
      "1.0\n"
     ]
    }
   ],
   "source": [
    "# 準確度分析\n",
    "\n",
    "# 公式：（模型）.score(（特徵）,（目標）)\n",
    "\n",
    "\n",
    "print(clf.score(X_train,y_train))\n",
    "\n",
    "print(clf.score(X_test, y_test))"
   ]
  },
  {
   "cell_type": "code",
   "execution_count": null,
   "metadata": {},
   "outputs": [],
   "source": []
  }
 ],
 "metadata": {
  "kernelspec": {
   "display_name": "Python 3",
   "language": "python",
   "name": "python3"
  },
  "language_info": {
   "codemirror_mode": {
    "name": "ipython",
    "version": 3
   },
   "file_extension": ".py",
   "mimetype": "text/x-python",
   "name": "python",
   "nbconvert_exporter": "python",
   "pygments_lexer": "ipython3",
   "version": "3.8.5"
  }
 },
 "nbformat": 4,
 "nbformat_minor": 4
}
